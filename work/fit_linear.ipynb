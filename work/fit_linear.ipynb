{
 "cells": [
  {
   "cell_type": "code",
   "execution_count": 1,
   "id": "971ab905",
   "metadata": {
    "ExecuteTime": {
     "end_time": "2022-05-14T15:52:10.299887Z",
     "start_time": "2022-05-14T15:52:04.000288Z"
    }
   },
   "outputs": [],
   "source": [
    "import os\n",
    "import sys\n",
    "import warnings\n",
    "from glob import glob\n",
    "\n",
    "import numpy as np\n",
    "import pandas as pd\n",
    "import seaborn as sns\n",
    "from matplotlib import pyplot as plt\n",
    "from statsmodels import api as sm\n",
    "from statsmodels.formula import api as smf"
   ]
  },
  {
   "cell_type": "code",
   "execution_count": 27,
   "id": "963b1a38",
   "metadata": {
    "ExecuteTime": {
     "end_time": "2022-05-16T10:21:29.703537Z",
     "start_time": "2022-05-16T10:21:29.677885Z"
    }
   },
   "outputs": [],
   "source": [
    "sys.path.append('/home/jovyan/work/summary_parser')\n",
    "from summary_parser import summary_parser"
   ]
  },
  {
   "cell_type": "code",
   "execution_count": 2,
   "id": "65cc0407",
   "metadata": {
    "ExecuteTime": {
     "end_time": "2022-05-14T15:52:10.389192Z",
     "start_time": "2022-05-14T15:52:10.373749Z"
    }
   },
   "outputs": [],
   "source": [
    "warnings.filterwarnings(\"ignore\")\n",
    "pd.set_option(\"display.max_rows\", 100)\n",
    "pd.set_option(\"display.max_columns\", 100)"
   ]
  },
  {
   "cell_type": "code",
   "execution_count": 13,
   "id": "bc160d3e",
   "metadata": {
    "ExecuteTime": {
     "end_time": "2022-05-14T15:55:53.441872Z",
     "start_time": "2022-05-14T15:55:53.411989Z"
    }
   },
   "outputs": [],
   "source": [
    "files = glob(\"/home/jovyan/work/data/*\")\n",
    "ar_coefs = [os.path.splitext(os.path.basename(file))[0] for file in files]"
   ]
  },
  {
   "cell_type": "code",
   "execution_count": 15,
   "id": "b0f5bc1b",
   "metadata": {
    "ExecuteTime": {
     "end_time": "2022-05-14T15:56:03.606204Z",
     "start_time": "2022-05-14T15:56:03.529881Z"
    }
   },
   "outputs": [],
   "source": [
    "dfs = dict(zip(ar_coefs, [pd.read_csv(file, index_col=0) for file in files]))"
   ]
  },
  {
   "cell_type": "code",
   "execution_count": 67,
   "id": "261d72df",
   "metadata": {
    "ExecuteTime": {
     "end_time": "2022-05-16T10:36:44.998393Z",
     "start_time": "2022-05-16T10:36:44.960126Z"
    }
   },
   "outputs": [],
   "source": [
    "for df in dfs.values():\n",
    "    df.reset_index(inplace=True)\n",
    "    df.rename(columns={\"index\":\"linear\"}, inplace=True)"
   ]
  },
  {
   "cell_type": "code",
   "execution_count": 76,
   "id": "8b0ca7f5",
   "metadata": {
    "ExecuteTime": {
     "end_time": "2022-05-16T10:38:11.492306Z",
     "start_time": "2022-05-16T10:38:11.387675Z"
    }
   },
   "outputs": [],
   "source": [
    "models = {}\n",
    "models_HAC = {}\n",
    "for ar_coef, df in dfs.items():\n",
    "    lr = smf.ols(formula=\"test~linear\", data=df)\n",
    "    nlags = int((len(df)/100)**(1/3)*4)\n",
    "    models[ar_coef] = lr.fit()\n",
    "    models_HAC[ar_coef] = lr.fit(cov_type=\"HAC\", cov_kwds={\"maxlags\": nlags})"
   ]
  },
  {
   "cell_type": "code",
   "execution_count": 77,
   "id": "dc06e8b4",
   "metadata": {
    "ExecuteTime": {
     "end_time": "2022-05-16T10:38:11.811225Z",
     "start_time": "2022-05-16T10:38:11.545881Z"
    }
   },
   "outputs": [],
   "source": [
    "conf_intervals = dict(\n",
    "    zip(\n",
    "        models.keys(),\n",
    "        [\n",
    "            summary_parser(model.summary()).summary_dfs[1][[\"0.025\", \"0.975\"]].T\n",
    "            for model in models.values()\n",
    "        ],\n",
    "    )\n",
    ")\n",
    "conf_intervals_HAC = dict(\n",
    "    zip(\n",
    "        models.keys(),\n",
    "        [\n",
    "            summary_parser(model.summary()).summary_dfs[1][[\"0.025\", \"0.975\"]].T\n",
    "            for model in models_HAC.values()\n",
    "        ],\n",
    "    )\n",
    ")"
   ]
  },
  {
   "cell_type": "code",
   "execution_count": 78,
   "id": "af9dca3e",
   "metadata": {
    "ExecuteTime": {
     "end_time": "2022-05-16T10:38:11.885629Z",
     "start_time": "2022-05-16T10:38:11.822581Z"
    }
   },
   "outputs": [],
   "source": [
    "for ar_coef, conf_interval in conf_intervals.items():\n",
    "    index = pd.MultiIndex.from_tuples(\n",
    "        [(ar_coef, _index) for _index in conf_interval.index]\n",
    "    )\n",
    "    conf_interval.index = index\n",
    "for ar_coef, conf_interval_HAC in conf_intervals_HAC.items():\n",
    "    index = pd.MultiIndex.from_tuples(\n",
    "        [(ar_coef, _index) for _index in conf_interval_HAC.index]\n",
    "    )\n",
    "    conf_interval_HAC.index = index"
   ]
  },
  {
   "cell_type": "code",
   "execution_count": 79,
   "id": "c4e21af8",
   "metadata": {
    "ExecuteTime": {
     "end_time": "2022-05-16T10:38:11.925213Z",
     "start_time": "2022-05-16T10:38:11.899285Z"
    }
   },
   "outputs": [],
   "source": [
    "conf_intervals = pd.concat(conf_intervals.values())\n",
    "conf_intervals_HAC = pd.concat(conf_intervals_HAC.values())"
   ]
  },
  {
   "cell_type": "code",
   "execution_count": 95,
   "id": "663f1db5",
   "metadata": {
    "ExecuteTime": {
     "end_time": "2022-05-16T10:43:38.887594Z",
     "start_time": "2022-05-16T10:43:38.619870Z"
    }
   },
   "outputs": [],
   "source": [
    "conf_intervals = dict(\n",
    "    zip(\n",
    "        models.keys(),\n",
    "        [\n",
    "            summary_parser(model.summary()).summary_dfs[1][[\"stderr\"]].T\n",
    "            for model in models.values()\n",
    "        ],\n",
    "    )\n",
    ")\n",
    "conf_intervals_HAC = dict(\n",
    "    zip(\n",
    "        models.keys(),\n",
    "        [\n",
    "            summary_parser(model.summary()).summary_dfs[1][[\"stderr\"]].T\n",
    "            for model in models_HAC.values()\n",
    "        ],\n",
    "    )\n",
    ")"
   ]
  },
  {
   "cell_type": "code",
   "execution_count": 96,
   "id": "a5bc41fc",
   "metadata": {
    "ExecuteTime": {
     "end_time": "2022-05-16T10:43:38.943981Z",
     "start_time": "2022-05-16T10:43:38.895882Z"
    }
   },
   "outputs": [],
   "source": [
    "for ar_coef, conf_interval in conf_intervals.items():\n",
    "    index = pd.MultiIndex.from_tuples(\n",
    "        [(ar_coef, _index) for _index in conf_interval.index]\n",
    "    )\n",
    "    conf_interval.index = index\n",
    "for ar_coef, conf_interval_HAC in conf_intervals_HAC.items():\n",
    "    index = pd.MultiIndex.from_tuples(\n",
    "        [(ar_coef, _index) for _index in conf_interval_HAC.index]\n",
    "    )\n",
    "    conf_interval_HAC.index = index"
   ]
  },
  {
   "cell_type": "code",
   "execution_count": 97,
   "id": "2c83cc7c",
   "metadata": {
    "ExecuteTime": {
     "end_time": "2022-05-16T10:43:39.320525Z",
     "start_time": "2022-05-16T10:43:39.279325Z"
    }
   },
   "outputs": [],
   "source": [
    "conf_intervals = pd.concat(conf_intervals.values())\n",
    "conf_intervals_HAC = pd.concat(conf_intervals_HAC.values())"
   ]
  },
  {
   "cell_type": "code",
   "execution_count": 98,
   "id": "f6b07d1f",
   "metadata": {
    "ExecuteTime": {
     "end_time": "2022-05-16T10:43:44.610231Z",
     "start_time": "2022-05-16T10:43:44.556715Z"
    }
   },
   "outputs": [
    {
     "data": {
      "text/html": [
       "<div>\n",
       "<style scoped>\n",
       "    .dataframe tbody tr th:only-of-type {\n",
       "        vertical-align: middle;\n",
       "    }\n",
       "\n",
       "    .dataframe tbody tr th {\n",
       "        vertical-align: top;\n",
       "    }\n",
       "\n",
       "    .dataframe thead th {\n",
       "        text-align: right;\n",
       "    }\n",
       "</style>\n",
       "<table border=\"1\" class=\"dataframe\">\n",
       "  <thead>\n",
       "    <tr style=\"text-align: right;\">\n",
       "      <th></th>\n",
       "      <th></th>\n",
       "      <th>Intercept</th>\n",
       "      <th>linear</th>\n",
       "    </tr>\n",
       "  </thead>\n",
       "  <tbody>\n",
       "    <tr>\n",
       "      <th>test_ar1_-0.9</th>\n",
       "      <th>stderr</th>\n",
       "      <td>0.473</td>\n",
       "      <td>0.014</td>\n",
       "    </tr>\n",
       "    <tr>\n",
       "      <th>test_ar1_0.9</th>\n",
       "      <th>stderr</th>\n",
       "      <td>0.407</td>\n",
       "      <td>0.012</td>\n",
       "    </tr>\n",
       "    <tr>\n",
       "      <th>test_ar1_0</th>\n",
       "      <th>stderr</th>\n",
       "      <td>0.258</td>\n",
       "      <td>0.008</td>\n",
       "    </tr>\n",
       "  </tbody>\n",
       "</table>\n",
       "</div>"
      ],
      "text/plain": [
       "                      Intercept     linear\n",
       "test_ar1_-0.9 stderr      0.473      0.014\n",
       "test_ar1_0.9  stderr      0.407      0.012\n",
       "test_ar1_0    stderr      0.258      0.008"
      ]
     },
     "execution_count": 98,
     "metadata": {},
     "output_type": "execute_result"
    }
   ],
   "source": [
    "conf_intervals"
   ]
  },
  {
   "cell_type": "code",
   "execution_count": 99,
   "id": "c7534830",
   "metadata": {
    "ExecuteTime": {
     "end_time": "2022-05-16T10:43:57.140283Z",
     "start_time": "2022-05-16T10:43:57.086938Z"
    }
   },
   "outputs": [
    {
     "data": {
      "text/html": [
       "<div>\n",
       "<style scoped>\n",
       "    .dataframe tbody tr th:only-of-type {\n",
       "        vertical-align: middle;\n",
       "    }\n",
       "\n",
       "    .dataframe tbody tr th {\n",
       "        vertical-align: top;\n",
       "    }\n",
       "\n",
       "    .dataframe thead th {\n",
       "        text-align: right;\n",
       "    }\n",
       "</style>\n",
       "<table border=\"1\" class=\"dataframe\">\n",
       "  <thead>\n",
       "    <tr style=\"text-align: right;\">\n",
       "      <th></th>\n",
       "      <th></th>\n",
       "      <th>Intercept</th>\n",
       "      <th>linear</th>\n",
       "    </tr>\n",
       "  </thead>\n",
       "  <tbody>\n",
       "    <tr>\n",
       "      <th>test_ar1_-0.9</th>\n",
       "      <th>stderr</th>\n",
       "      <td>0.924</td>\n",
       "      <td>0.021</td>\n",
       "    </tr>\n",
       "    <tr>\n",
       "      <th>test_ar1_0.9</th>\n",
       "      <th>stderr</th>\n",
       "      <td>0.212</td>\n",
       "      <td>0.006</td>\n",
       "    </tr>\n",
       "    <tr>\n",
       "      <th>test_ar1_0</th>\n",
       "      <th>stderr</th>\n",
       "      <td>0.216</td>\n",
       "      <td>0.007</td>\n",
       "    </tr>\n",
       "  </tbody>\n",
       "</table>\n",
       "</div>"
      ],
      "text/plain": [
       "                      Intercept     linear\n",
       "test_ar1_-0.9 stderr      0.924      0.021\n",
       "test_ar1_0.9  stderr      0.212      0.006\n",
       "test_ar1_0    stderr      0.216      0.007"
      ]
     },
     "execution_count": 99,
     "metadata": {},
     "output_type": "execute_result"
    }
   ],
   "source": [
    "conf_intervals_HAC"
   ]
  },
  {
   "cell_type": "code",
   "execution_count": null,
   "id": "e877020b",
   "metadata": {},
   "outputs": [],
   "source": []
  }
 ],
 "metadata": {
  "kernelspec": {
   "display_name": "Python 3 (ipykernel)",
   "language": "python",
   "name": "python3"
  },
  "language_info": {
   "codemirror_mode": {
    "name": "ipython",
    "version": 3
   },
   "file_extension": ".py",
   "mimetype": "text/x-python",
   "name": "python",
   "nbconvert_exporter": "python",
   "pygments_lexer": "ipython3",
   "version": "3.9.12"
  }
 },
 "nbformat": 4,
 "nbformat_minor": 5
}
